{
 "cells": [
  {
   "cell_type": "markdown",
   "metadata": {},
   "source": [
    "### Importing Libraries for Google Drive Authentication\n",
    "\n",
    "In this section, we import the necessary libraries to authenticate and interact with Google Drive using the PyDrive library."
   ]
  },
  {
   "cell_type": "code",
   "execution_count": 1,
   "metadata": {},
   "outputs": [],
   "source": [
    "from pydrive.auth import GoogleAuth\n",
    "from pydrive.drive import GoogleDrive\n",
    "import os"
   ]
  },
  {
   "cell_type": "markdown",
   "metadata": {},
   "source": [
    "### Uploading a File to Google Drive\n",
    "\n",
    "In this section, we define a function to upload a file to Google Drive. The function handles authentication, creates a Google Drive client, and uploads the file from the local machine to Google Drive."
   ]
  },
  {
   "cell_type": "code",
   "execution_count": 6,
   "metadata": {},
   "outputs": [
    {
     "name": "stdout",
     "output_type": "stream",
     "text": [
      "Your browser has been opened to visit:\n",
      "\n",
      "    https://accounts.google.com/o/oauth2/auth?client_id=592373251463-ltn5slkt5devg7r52gnv98iiilg56r07.apps.googleusercontent.com&redirect_uri=http%3A%2F%2Flocalhost%3A8080%2F&scope=https%3A%2F%2Fwww.googleapis.com%2Fauth%2Fdrive&access_type=offline&response_type=code\n",
      "\n"
     ]
    }
   ],
   "source": [
    "def upload_to_drive(file_path, file_name):\n",
    "    # Authentication with Google\n",
    "    gauth = GoogleAuth()\n",
    "\n",
    "    # Load the credentials file from a specific path\n",
    "    gauth.LoadClientConfigFile(\"../src/client_secret.json\")  # Change the path here to your credentials file\n",
    "\n",
    "    # Authenticate via the web browser\n",
    "    gauth.LocalWebserverAuth()\n",
    "\n",
    "    # Create Google Drive client\n",
    "    drive = GoogleDrive(gauth)\n",
    "\n",
    "    # Create the file to upload\n",
    "    gfile = drive.CreateFile({'title': file_name})\n",
    "\n",
    "    # Set the content of the file\n",
    "    gfile.SetContentFile(file_path)\n",
    "\n",
    "    # Upload the file\n",
    "    gfile.Upload()\n",
    "\n",
    "    print(f\"The file '{file_name}' has been successfully uploaded to Google Drive.\")\n",
    "\n",
    "# Call the function with the path to your file\n",
    "csv_file_path = os.path.abspath(os.path.join('../data/merged_data.csv'))\n",
    "upload_to_drive(csv_file_path, 'merged_data.csv')\n",
    "print(\"File uploaded successfully\")"
   ]
  }
 ],
 "metadata": {
  "kernelspec": {
   "display_name": "Python 3",
   "language": "python",
   "name": "python3"
  },
  "language_info": {
   "codemirror_mode": {
    "name": "ipython",
    "version": 3
   },
   "file_extension": ".py",
   "mimetype": "text/x-python",
   "name": "python",
   "nbconvert_exporter": "python",
   "pygments_lexer": "ipython3",
   "version": "3.11.5"
  }
 },
 "nbformat": 4,
 "nbformat_minor": 2
}
