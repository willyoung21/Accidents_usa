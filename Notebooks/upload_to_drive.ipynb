{
 "cells": [
  {
   "cell_type": "code",
   "execution_count": 1,
   "metadata": {},
   "outputs": [],
   "source": [
    "from pydrive.auth import GoogleAuth\n",
    "from pydrive.drive import GoogleDrive"
   ]
  },
  {
   "cell_type": "code",
   "execution_count": 2,
   "metadata": {},
   "outputs": [],
   "source": [
    "import sys\n",
    "import os"
   ]
  },
  {
   "cell_type": "code",
   "execution_count": 4,
   "metadata": {},
   "outputs": [
    {
     "name": "stdout",
     "output_type": "stream",
     "text": [
      "Your browser has been opened to visit:\n",
      "\n",
      "    https://accounts.google.com/o/oauth2/auth?client_id=592373251463-ltn5slkt5devg7r52gnv98iiilg56r07.apps.googleusercontent.com&redirect_uri=http%3A%2F%2Flocalhost%3A8080%2F&scope=https%3A%2F%2Fwww.googleapis.com%2Fauth%2Fdrive&access_type=offline&response_type=code\n",
      "\n",
      "Authentication successful.\n",
      "El archivo 'merged_data.csv' ha sido subido con éxito a Google Drive.\n",
      "Archivo subido exitosamente\n"
     ]
    }
   ],
   "source": [
    "def upload_to_drive(file_path, file_name):\n",
    "    # Autenticación con Google\n",
    "    gauth = GoogleAuth()\n",
    "\n",
    "    # Cargar el archivo de credenciales desde una ruta específica\n",
    "    gauth.LoadClientConfigFile(\"../src/client_secret.json\")  # Cambia la ruta aquí\n",
    "\n",
    "    # Autenticación en el navegador\n",
    "    gauth.LocalWebserverAuth()\n",
    "\n",
    "    # Crear cliente de Google Drive\n",
    "    drive = GoogleDrive(gauth)\n",
    "\n",
    "    # Crear el archivo a subir\n",
    "    gfile = drive.CreateFile({'title': file_name})\n",
    "\n",
    "    # Establecer el contenido del archivo\n",
    "    gfile.SetContentFile(file_path)\n",
    "\n",
    "    # Subir el archivo\n",
    "    gfile.Upload()\n",
    "\n",
    "    print(f\"El archivo '{file_name}' ha sido subido con éxito a Google Drive.\")\n",
    "\n",
    "\n",
    "# Llamar a la función con la ruta de tu archivo\n",
    "csv_file_path = os.path.abspath(os.path.join('../data/merged_data.csv'))\n",
    "upload_to_drive(csv_file_path, 'merged_data.csv')\n",
    "print(\"Archivo subido exitosamente\")"
   ]
  }
 ],
 "metadata": {
  "kernelspec": {
   "display_name": "Python 3",
   "language": "python",
   "name": "python3"
  },
  "language_info": {
   "codemirror_mode": {
    "name": "ipython",
    "version": 3
   },
   "file_extension": ".py",
   "mimetype": "text/x-python",
   "name": "python",
   "nbconvert_exporter": "python",
   "pygments_lexer": "ipython3",
   "version": "3.11.5"
  }
 },
 "nbformat": 4,
 "nbformat_minor": 2
}
