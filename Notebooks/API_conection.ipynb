{
 "cells": [
  {
   "cell_type": "code",
   "execution_count": 1,
   "metadata": {},
   "outputs": [],
   "source": [
    "import requests\n",
    "import pandas as pd"
   ]
  },
  {
   "cell_type": "code",
   "execution_count": 3,
   "metadata": {},
   "outputs": [
    {
     "name": "stdout",
     "output_type": "stream",
     "text": [
      "                crash_date crash_time           on_street_name  \\\n",
      "0  2021-09-11T00:00:00.000       2:39    WHITESTONE EXPRESSWAY   \n",
      "1  2022-03-26T00:00:00.000      11:45  QUEENSBORO BRIDGE UPPER   \n",
      "2  2022-06-29T00:00:00.000       6:55       THROGS NECK BRIDGE   \n",
      "3  2021-09-11T00:00:00.000       9:35                      NaN   \n",
      "4  2021-12-14T00:00:00.000       8:13          SARATOGA AVENUE   \n",
      "\n",
      "  off_street_name number_of_persons_injured number_of_persons_killed  \\\n",
      "0       20 AVENUE                         2                        0   \n",
      "1             NaN                         1                        0   \n",
      "2             NaN                         0                        0   \n",
      "3             NaN                         0                        0   \n",
      "4  DECATUR STREET                         0                        0   \n",
      "\n",
      "  number_of_pedestrians_injured number_of_pedestrians_killed  \\\n",
      "0                             0                            0   \n",
      "1                             0                            0   \n",
      "2                             0                            0   \n",
      "3                             0                            0   \n",
      "4                             0                            0   \n",
      "\n",
      "  number_of_cyclist_injured number_of_cyclist_killed  ...   latitude  \\\n",
      "0                         0                        0  ...        NaN   \n",
      "1                         0                        0  ...        NaN   \n",
      "2                         0                        0  ...        NaN   \n",
      "3                         0                        0  ...  40.667202   \n",
      "4                         0                        0  ...  40.683304   \n",
      "\n",
      "    longitude                                           location  \\\n",
      "0         NaN                                                NaN   \n",
      "1         NaN                                                NaN   \n",
      "2         NaN                                                NaN   \n",
      "3    -73.8665  {'latitude': '40.667202', 'longitude': '-73.86...   \n",
      "4  -73.917274  {'latitude': '40.683304', 'longitude': '-73.91...   \n",
      "\n",
      "         cross_street_name contributing_factor_vehicle_3 vehicle_type_code_3  \\\n",
      "0                      NaN                           NaN                 NaN   \n",
      "1                      NaN                           NaN                 NaN   \n",
      "2                      NaN                           NaN                 NaN   \n",
      "3  1211      LORING AVENUE                           NaN                 NaN   \n",
      "4                      NaN                           NaN                 NaN   \n",
      "\n",
      "  contributing_factor_vehicle_4 vehicle_type_code_4  \\\n",
      "0                           NaN                 NaN   \n",
      "1                           NaN                 NaN   \n",
      "2                           NaN                 NaN   \n",
      "3                           NaN                 NaN   \n",
      "4                           NaN                 NaN   \n",
      "\n",
      "  contributing_factor_vehicle_5 vehicle_type_code_5  \n",
      "0                           NaN                 NaN  \n",
      "1                           NaN                 NaN  \n",
      "2                           NaN                 NaN  \n",
      "3                           NaN                 NaN  \n",
      "4                           NaN                 NaN  \n",
      "\n",
      "[5 rows x 29 columns]\n"
     ]
    }
   ],
   "source": [
    "# URL del dataset\n",
    "url = \"https://data.cityofnewyork.us/resource/h9gi-nx95.json\"\n",
    "\n",
    "# Parámetros para limitar a 500,000 registros\n",
    "params = {\n",
    "    \"$limit\": 200000\n",
    "}\n",
    "\n",
    "# Hacer la solicitud GET al API\n",
    "response = requests.get(url, params=params)\n",
    "\n",
    "# Verificar si la solicitud fue exitosa\n",
    "if response.status_code == 200:\n",
    "    data = response.json()  # Convertir la respuesta a JSON\n",
    "    df = pd.DataFrame(data)  # Crear un DataFrame de pandas\n",
    "    print(df.head())  # Mostrar los primeros registros\n",
    "    df.to_csv('../data/API_data.csv', index=False, encoding='utf-8')\n",
    "else:\n",
    "    print(f\"Error en la solicitud: {response.status_code}\")"
   ]
  }
 ],
 "metadata": {
  "kernelspec": {
   "display_name": "Python 3",
   "language": "python",
   "name": "python3"
  },
  "language_info": {
   "codemirror_mode": {
    "name": "ipython",
    "version": 3
   },
   "file_extension": ".py",
   "mimetype": "text/x-python",
   "name": "python",
   "nbconvert_exporter": "python",
   "pygments_lexer": "ipython3",
   "version": "3.11.5"
  }
 },
 "nbformat": 4,
 "nbformat_minor": 2
}
