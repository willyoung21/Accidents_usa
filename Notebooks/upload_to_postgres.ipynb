{
 "cells": [
  {
   "cell_type": "code",
   "execution_count": 1,
   "metadata": {},
   "outputs": [],
   "source": [
    "import pandas as pd\n",
    "from sqlalchemy import create_engine"
   ]
  },
  {
   "cell_type": "code",
   "execution_count": 2,
   "metadata": {},
   "outputs": [],
   "source": [
    "import sys\n",
    "import os\n",
    "sys.path.append(os.path.abspath(os.path.join('..', 'src')))\n",
    "from Credentials import usuario,password,host,puerto,db"
   ]
  },
  {
   "cell_type": "code",
   "execution_count": 8,
   "metadata": {},
   "outputs": [
    {
     "name": "stdout",
     "output_type": "stream",
     "text": [
      "Data uploaded to the table merged successfully\n"
     ]
    }
   ],
   "source": [
    "# Step 1: Read the CSV file\n",
    "csv_file = '../data/merged_data.csv'  # Replace with the path to your CSV file\n",
    "df = pd.read_csv(csv_file)\n",
    "\n",
    "# Step 2: Configure the PostgreSQL connection\n",
    "user = usuario  # Replace with your PostgreSQL user\n",
    "password = password  # Replace with your password\n",
    "host = host  # Replace if your database is on another server\n",
    "port = puerto  # Default PostgreSQL port\n",
    "db = db  # Replace with your database name\n",
    "\n",
    "# Create the connection string\n",
    "engine = create_engine(f'postgresql://{user}:{password}@{host}:{port}/{db}')\n",
    "\n",
    "# Step 3: Upload the CSV data to a PostgreSQL table\n",
    "# You can specify the table name and whether to replace or append the data\n",
    "table_name = \"merged\"   # Replace with the name of your table\n",
    "df.to_sql(table_name, engine, if_exists='replace', index=False)\n",
    "\n",
    "print(f'Data uploaded to the table {table_name} successfully')"
   ]
  }
 ],
 "metadata": {
  "kernelspec": {
   "display_name": "Python 3",
   "language": "python",
   "name": "python3"
  },
  "language_info": {
   "codemirror_mode": {
    "name": "ipython",
    "version": 3
   },
   "file_extension": ".py",
   "mimetype": "text/x-python",
   "name": "python",
   "nbconvert_exporter": "python",
   "pygments_lexer": "ipython3",
   "version": "3.11.5"
  }
 },
 "nbformat": 4,
 "nbformat_minor": 2
}
