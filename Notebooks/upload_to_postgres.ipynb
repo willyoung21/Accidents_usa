{
 "cells": [
  {
   "cell_type": "code",
   "execution_count": 1,
   "metadata": {},
   "outputs": [],
   "source": [
    "import pandas as pd\n",
    "from sqlalchemy import create_engine"
   ]
  },
  {
   "cell_type": "code",
   "execution_count": 2,
   "metadata": {},
   "outputs": [],
   "source": [
    "import sys\n",
    "import os\n",
    "sys.path.append(os.path.abspath(os.path.join('..', 'src')))\n",
    "from Credentials import usuario,password,host,puerto,db"
   ]
  },
  {
   "cell_type": "code",
   "execution_count": 4,
   "metadata": {},
   "outputs": [
    {
     "name": "stdout",
     "output_type": "stream",
     "text": [
      "Datos subidos a la tabla merged correctamente\n"
     ]
    }
   ],
   "source": [
    "# Paso 1: Lee el CSV\n",
    "csv_file = '../data/merged_data.csv'  # Reemplaza con la ruta a tu archivo CSV\n",
    "df = pd.read_csv(csv_file)\n",
    "\n",
    "# Paso 2: Configura la conexión a PostgreSQL\n",
    "usuario = usuario  # Reemplaza con tu usuario de PostgreSQL\n",
    "password = password  # Reemplaza con tu contraseña\n",
    "host = host  # Reemplaza si tu base de datos está en otro servidor\n",
    "puerto = puerto  # Puerto por defecto de PostgreSQL\n",
    "db = db  # Reemplaza con el nombre de tu base de datos\n",
    "\n",
    "# Crea la cadena de conexión\n",
    "engine = create_engine(f'postgresql://{usuario}:{password}@{host}:{puerto}/{db}')\n",
    "\n",
    "# Paso 3: Subir los datos del CSV a una tabla de PostgreSQL\n",
    "# Puedes especificar el nombre de la tabla y si deseas reemplazar o añadir los datos\n",
    "nombre_tabla = \"merged\"   # Reemplaza con el nombre de tu tabla\n",
    "df.to_sql(nombre_tabla, engine, if_exists='replace', index=False)\n",
    "\n",
    "print(f'Datos subidos a la tabla {nombre_tabla} correctamente')"
   ]
  }
 ],
 "metadata": {
  "kernelspec": {
   "display_name": "Python 3",
   "language": "python",
   "name": "python3"
  },
  "language_info": {
   "codemirror_mode": {
    "name": "ipython",
    "version": 3
   },
   "file_extension": ".py",
   "mimetype": "text/x-python",
   "name": "python",
   "nbconvert_exporter": "python",
   "pygments_lexer": "ipython3",
   "version": "3.11.5"
  }
 },
 "nbformat": 4,
 "nbformat_minor": 2
}
