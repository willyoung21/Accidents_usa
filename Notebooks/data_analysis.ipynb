{
 "cells": [
  {
   "cell_type": "code",
   "execution_count": 1,
   "metadata": {},
   "outputs": [],
   "source": [
    "import pandas as pd"
   ]
  },
  {
   "cell_type": "code",
   "execution_count": 59,
   "metadata": {},
   "outputs": [],
   "source": [
    "# Load the CSV files\n",
    "API_merge = pd.read_csv('../data/API_data_Cleaned.csv')\n",
    "db_merge = pd.read_csv('../data/us_accidents_cleaned.csv')\n",
    "\n",
    "# Convert date columns to datetime format and use only the date\n",
    "API_merge['crash_date'] = pd.to_datetime(API_merge['crash_date']).dt.date  # Use only the date\n",
    "db_merge['start_time'] = pd.to_datetime(db_merge['start_time']).dt.date  # Use only the date\n",
    "\n",
    "# Filter both datasets for rows where the city is 'New York'\n",
    "api_data_ny = API_merge[API_merge['city'] == 'New York']\n",
    "us_accidents_ny = db_merge[db_merge['city'] == 'New York']\n",
    "\n",
    "# Merge the two datasets based on the date (inner join)\n",
    "merged_df = pd.merge(api_data_ny, us_accidents_ny, left_on='crash_date', right_on='start_time', how='inner')\n",
    "\n",
    "# Drop duplicate city columns ('city_x' and 'city_y')\n",
    "merged_df = merged_df.drop(columns=['city_x', 'city_y'])\n",
    "\n",
    "# Add a new column 'city' with the value \"New York\"\n",
    "merged_df['city'] = \"New York\"\n",
    "\n",
    "# Move the 'city' column to the beginning of the DataFrame\n",
    "cols = ['city'] + [col for col in merged_df.columns if col != 'city']\n",
    "merged_df = merged_df[cols]\n"
   ]
  },
  {
   "cell_type": "code",
   "execution_count": null,
   "metadata": {},
   "outputs": [],
   "source": [
    "# Check the number of rows after the merge\n",
    "merged_count = merged_df.shape[0]\n",
    "print(f\"Number of rows after the merge: {merged_count}\")\n",
    "\n",
    "# Check for null values in the merged DataFrame\n",
    "print(f\"Null values: \\n{merged_df.isnull().sum()}\\n\")\n",
    "\n",
    "# Save the merged result to a CSV file\n",
    "merged_df.to_csv('../data/merged_data.csv', index=False, encoding='utf-8')\n"
   ]
  }
 ],
 "metadata": {
  "kernelspec": {
   "display_name": "Python 3",
   "language": "python",
   "name": "python3"
  },
  "language_info": {
   "codemirror_mode": {
    "name": "ipython",
    "version": 3
   },
   "file_extension": ".py",
   "mimetype": "text/x-python",
   "name": "python",
   "nbconvert_exporter": "python",
   "pygments_lexer": "ipython3",
   "version": "3.11.5"
  }
 },
 "nbformat": 4,
 "nbformat_minor": 2
}
