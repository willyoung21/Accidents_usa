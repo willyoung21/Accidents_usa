{
 "cells": [
  {
   "cell_type": "code",
   "execution_count": 1,
   "metadata": {},
   "outputs": [],
   "source": [
    "import pandas as pd"
   ]
  },
  {
   "cell_type": "code",
   "execution_count": 59,
   "metadata": {},
   "outputs": [],
   "source": [
    "import pandas as pd\n",
    "\n",
    "# Cargar los archivos CSV\n",
    "API_merge = pd.read_csv('../data/API_data_Cleaned.csv')\n",
    "db_merge = pd.read_csv('../data/us_accidents_cleaned.csv')\n",
    "\n",
    "# Convertir las columnas de fecha a formato datetime\n",
    "API_merge['crash_date'] = pd.to_datetime(API_merge['crash_date']).dt.date  # Usar solo la fecha\n",
    "db_merge['start_time'] = pd.to_datetime(db_merge['start_time']).dt.date  # Usar solo la fecha\n",
    "\n",
    "# Filtrar ambos conjuntos de datos por 'New York'\n",
    "api_data_ny = API_merge[API_merge['city'] == 'New York']\n",
    "us_accidents_ny = db_merge[db_merge['city'] == 'New York']\n",
    "\n",
    "# Hacer un merge por la fecha (combinación interna)\n",
    "merged_df = pd.merge(api_data_ny, us_accidents_ny, left_on='crash_date', right_on='start_time', how='inner')\n",
    "\n",
    "merged_df = merged_df.drop(columns=['city_x','city_y'])\n",
    "\n",
    "merged_df['city'] = \"New York\"\n",
    "\n",
    "# Mover la columna 'id' al principio\n",
    "cols = ['city'] + [col for col in merged_df.columns if col != 'city']\n",
    "merged_df = merged_df[cols]\n"
   ]
  },
  {
   "cell_type": "code",
   "execution_count": 60,
   "metadata": {},
   "outputs": [
    {
     "name": "stdout",
     "output_type": "stream",
     "text": [
      "Cantidad de filas después del merge: 48001\n",
      "Null values: \n",
      "city                             0\n",
      "crash_date                       0\n",
      "crash_time                       0\n",
      "on_street_name                   0\n",
      "off_street_name                  0\n",
      "number_of_persons_injured        0\n",
      "number_of_persons_killed         0\n",
      "number_of_pedestrians_injured    0\n",
      "number_of_pedestrians_killed     0\n",
      "number_of_cyclist_injured        0\n",
      "number_of_cyclist_killed         0\n",
      "number_of_motorist_injured       0\n",
      "number_of_motorist_killed        0\n",
      "contributing_factor_vehicle_1    0\n",
      "contributing_factor_vehicle_2    0\n",
      "collision_id                     0\n",
      "vehicle_type_code1               0\n",
      "vehicle_type_code2               0\n",
      "borough                          0\n",
      "zip_code                         0\n",
      "latitude                         0\n",
      "longitude                        0\n",
      "location                         0\n",
      "severity                         0\n",
      "start_time                       0\n",
      "end_time                         0\n",
      "start_lat                        0\n",
      "start_lng                        0\n",
      "distance_mi                      0\n",
      "street                           0\n",
      "county                           0\n",
      "state                            0\n",
      "zipcode                          0\n",
      "timezone                         0\n",
      "airport_code                     0\n",
      "weather_timestamp                0\n",
      "temperature_f                    0\n",
      "wind_chill_f                     0\n",
      "humidity_percent                 0\n",
      "pressure_in                      0\n",
      "visibility_mi                    0\n",
      "wind_direction                   0\n",
      "wind_speed_mph                   0\n",
      "precipitation_in                 0\n",
      "weather_condition                0\n",
      "amenity                          0\n",
      "bump                             0\n",
      "crossing                         0\n",
      "give_way                         0\n",
      "junction                         0\n",
      "no_exit                          0\n",
      "railway                          0\n",
      "roundabout                       0\n",
      "station                          0\n",
      "stop                             0\n",
      "traffic_calming                  0\n",
      "traffic_signal                   0\n",
      "turning_loop                     0\n",
      "sunrise_sunset                   0\n",
      "dtype: int64\n",
      "\n"
     ]
    }
   ],
   "source": [
    "# Comprobar la cantidad de filas después del merge\n",
    "merged_count = merged_df.shape[0]\n",
    "print(f\"Cantidad de filas después del merge: {merged_count}\")\n",
    "\n",
    "print(f\"Null values: \\n{merged_df.isnull().sum()}\\n\")\n",
    "\n",
    "# Guardar el resultado del merge en un archivo CSV\n",
    "merged_df.to_csv('../data/merged_data.csv', index=False, encoding='utf-8')"
   ]
  }
 ],
 "metadata": {
  "kernelspec": {
   "display_name": "Python 3",
   "language": "python",
   "name": "python3"
  },
  "language_info": {
   "codemirror_mode": {
    "name": "ipython",
    "version": 3
   },
   "file_extension": ".py",
   "mimetype": "text/x-python",
   "name": "python",
   "nbconvert_exporter": "python",
   "pygments_lexer": "ipython3",
   "version": "3.11.5"
  }
 },
 "nbformat": 4,
 "nbformat_minor": 2
}
