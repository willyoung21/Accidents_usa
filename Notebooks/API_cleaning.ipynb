{
 "cells": [
  {
   "cell_type": "code",
   "execution_count": 3,
   "metadata": {},
   "outputs": [],
   "source": [
    "import pandas as pd\n",
    "import sys\n",
    "import os"
   ]
  },
  {
   "cell_type": "code",
   "execution_count": 7,
   "metadata": {},
   "outputs": [
    {
     "ename": "TypeError",
     "evalue": "string indices must be integers, not 'str'",
     "output_type": "error",
     "traceback": [
      "\u001b[1;31m---------------------------------------------------------------------------\u001b[0m",
      "\u001b[1;31mTypeError\u001b[0m                                 Traceback (most recent call last)",
      "Cell \u001b[1;32mIn[7], line 6\u001b[0m\n\u001b[0;32m      2\u001b[0m data \u001b[38;5;241m=\u001b[39m os\u001b[38;5;241m.\u001b[39mpath\u001b[38;5;241m.\u001b[39mabspath(os\u001b[38;5;241m.\u001b[39mpath\u001b[38;5;241m.\u001b[39mjoin(\u001b[38;5;124m'\u001b[39m\u001b[38;5;124m../data/API_data.csv\u001b[39m\u001b[38;5;124m'\u001b[39m))\n\u001b[0;32m      4\u001b[0m pd\u001b[38;5;241m.\u001b[39mset_option(\u001b[38;5;124m'\u001b[39m\u001b[38;5;124mdisplay.max_columns\u001b[39m\u001b[38;5;124m'\u001b[39m, \u001b[38;5;28;01mNone\u001b[39;00m)\n\u001b[1;32m----> 6\u001b[0m data[\u001b[38;5;124m'\u001b[39m\u001b[38;5;124mcrash_date\u001b[39m\u001b[38;5;124m'\u001b[39m] \u001b[38;5;241m=\u001b[39m pd\u001b[38;5;241m.\u001b[39mto_datetime(\u001b[43mdata\u001b[49m\u001b[43m[\u001b[49m\u001b[38;5;124;43m'\u001b[39;49m\u001b[38;5;124;43mcrash_date\u001b[39;49m\u001b[38;5;124;43m'\u001b[39;49m\u001b[43m]\u001b[49m)\n\u001b[0;32m      8\u001b[0m data_filtered \u001b[38;5;241m=\u001b[39m data[data[\u001b[38;5;124m'\u001b[39m\u001b[38;5;124mcrash_date\u001b[39m\u001b[38;5;124m'\u001b[39m]\u001b[38;5;241m.\u001b[39mdt\u001b[38;5;241m.\u001b[39myear \u001b[38;5;241m>\u001b[39m\u001b[38;5;241m=\u001b[39m \u001b[38;5;241m2021\u001b[39m]\n\u001b[0;32m     10\u001b[0m data_filtered[\u001b[38;5;124m'\u001b[39m\u001b[38;5;124mcrash_date\u001b[39m\u001b[38;5;124m'\u001b[39m] \u001b[38;5;241m=\u001b[39m data_filtered[\u001b[38;5;124m'\u001b[39m\u001b[38;5;124mcrash_date\u001b[39m\u001b[38;5;124m'\u001b[39m]\u001b[38;5;241m.\u001b[39mdt\u001b[38;5;241m.\u001b[39mdate\n",
      "\u001b[1;31mTypeError\u001b[0m: string indices must be integers, not 'str'"
     ]
    }
   ],
   "source": [
    "file_path = 'data/API_data.csv' \n",
    "data = os.path.abspath(os.path.join('../data/API_data.csv'))\n",
    "\n",
    "pd.set_option('display.max_columns', None)\n",
    "\n",
    "data['crash_date'] = pd.to_datetime(data['crash_date'])\n",
    "\n",
    "data_filtered = data[data['crash_date'].dt.year >= 2021]\n",
    "\n",
    "data_filtered['crash_date'] = data_filtered['crash_date'].dt.date\n",
    "# Borrar columnas\n",
    "data_filtered = data_filtered.drop(['vehicle_type_code_5','contributing_factor_vehicle_5',\n",
    "                                    'vehicle_type_code_4','contributing_factor_vehicle_4',\n",
    "                                    'vehicle_type_code_3','contributing_factor_vehicle_3',\n",
    "                                    'cross_street_name'], axis=1)\n",
    "\n",
    "print(\"\\nDatos filtrados y ordenados:\")\n",
    "data_filtered = data_filtered.dropna()\n",
    "print(data_filtered.isnull().sum())\n",
    "print(data_filtered.duplicated())\n",
    "data_filtered\n",
    "data_filtered.to_csv('data/API_data.csv', index=False, encoding='utf-8')\n",
    "print(\"Archivo limpiado correctamente\")"
   ]
  }
 ],
 "metadata": {
  "kernelspec": {
   "display_name": "Python 3",
   "language": "python",
   "name": "python3"
  },
  "language_info": {
   "codemirror_mode": {
    "name": "ipython",
    "version": 3
   },
   "file_extension": ".py",
   "mimetype": "text/x-python",
   "name": "python",
   "nbconvert_exporter": "python",
   "pygments_lexer": "ipython3",
   "version": "3.11.5"
  }
 },
 "nbformat": 4,
 "nbformat_minor": 2
}
