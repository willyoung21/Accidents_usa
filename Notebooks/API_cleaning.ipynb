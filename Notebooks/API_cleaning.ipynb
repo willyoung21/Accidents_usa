{
 "cells": [
  {
   "cell_type": "code",
   "execution_count": 2,
   "metadata": {},
   "outputs": [],
   "source": [
    "import pandas as pd\n",
    "import sys\n",
    "import os"
   ]
  },
  {
   "cell_type": "code",
   "execution_count": null,
   "metadata": {},
   "outputs": [],
   "source": [
    "# Obtener la ruta del archivo CSV\n",
    "csv_file_path = os.path.abspath(os.path.join('../data/API_data.csv'))\n",
    "\n",
    "# Cargar el archivo CSV en un DataFrame\n",
    "data = pd.read_csv(csv_file_path)\n",
    "\n",
    "pd.set_option('display.max_columns', None)\n",
    "\n",
    "# a) Eliminar filas que tienen demasiados valores nulos (aquí se establece un umbral del 50%)\n",
    "data_clean = data.dropna(thresh=len(data.columns) * 0.5)\n",
    "\n",
    "# b) Para columnas específicas, eliminar filas donde hay valores nulos\n",
    "data_clean = data_clean.dropna(subset=['latitude', 'longitude', 'crash_date'])\n",
    "\n",
    "# 2. Convertir `crash_date` y `crash_time` a formato datetime\n",
    "data_clean['crash_date'] = pd.to_datetime(data_clean['crash_date'], errors='coerce')\n",
    "data_clean['crash_time'] = pd.to_datetime(data_clean['crash_time'], format='%H:%M', errors='coerce')\n",
    "\n",
    "# 3. Corregir valores inconsistentes (ejemplo: corregir espacios en blanco o capitalización en la columna `borough`)\n",
    "data_clean['borough'] = data_clean['borough'].str.strip().str.title()\n",
    "\n",
    "# 4. Eliminar duplicados basados en la columna `collision_id` (asumido como único para cada accidente)\n",
    "data_clean = data_clean.drop_duplicates(subset='collision_id')\n",
    "\n",
    "# 5. Eliminar columnas irrelevantes (puedes personalizar esta lista según sea necesario)\n",
    "cols_to_drop = ['contributing_factor_vehicle_3', 'contributing_factor_vehicle_4', 'contributing_factor_vehicle_5', \n",
    "                'vehicle_type_code_3', 'vehicle_type_code_4', 'vehicle_type_code_5']\n",
    "data_clean = data_clean.drop(columns=cols_to_drop)\n",
    "\n",
    "\n",
    "\n",
    "# 6. Verificar el resultado de la limpieza\n",
    "print(data_clean.info())\n",
    "print(data_clean.head())\n",
    "\n",
    "data_clean.to_csv('../data/API_data.csv', index=False, encoding='utf-8')\n",
    "print(data_clean.isnull().sum())\n",
    "print(f\"El tamaño del archivo es de : {data_clean.shape[0]}\")\n",
    "print(\"Archivo limpiado correctamente\")"
   ]
  },
  {
   "cell_type": "code",
   "execution_count": 27,
   "metadata": {},
   "outputs": [
    {
     "name": "stdout",
     "output_type": "stream",
     "text": [
      "\n",
      "Datos filtrados y ordenados: \n",
      "\n",
      "La cantidad de datos repetidos son: \n",
      "0\n",
      "Datos: 46436 \n",
      "\n",
      "Archivo limpiado correctamente\n"
     ]
    }
   ],
   "source": [
    "file_path = os.path.abspath(os.path.join('../data/API_data.csv'))\n",
    "\n",
    "# Cargar el archivo CSV con pandas\n",
    "data = pd.read_csv(file_path)\n",
    "\n",
    "pd.set_option('display.max_columns', None)\n",
    "\n",
    "# 2. Convertir `crash_date` y `crash_time` a formato datetime\n",
    "data['crash_date'] = pd.to_datetime(data['crash_date'], errors='coerce')\n",
    "data['crash_time'] = pd.to_datetime(data['crash_time'], format='%H:%M', errors='coerce')\n",
    "\n",
    "# 3. Corregir valores inconsistentes (ejemplo: corregir espacios en blanco o capitalización en la columna `borough`)\n",
    "data['borough'] = data['borough'].str.strip().str.title()\n",
    "\n",
    "data = data[data['crash_date'].notna() & (data['crash_date'].dt.year >= 2021)]\n",
    "\n",
    "# 4. Eliminar duplicados basados en la columna `collision_id` (asumido como único para cada accidente)\n",
    "data = data.drop_duplicates(subset='collision_id')\n",
    "\n",
    "data['crash_date'] = data['crash_date'].dt.date\n",
    "# Borrar columnas\n",
    "data = data.drop(['vehicle_type_code_5','contributing_factor_vehicle_5',\n",
    "                                    'vehicle_type_code_4','contributing_factor_vehicle_4',\n",
    "                                    'vehicle_type_code_3','contributing_factor_vehicle_3',\n",
    "                                    'cross_street_name'], axis=1)\n",
    "\n",
    "print(\"\\nDatos filtrados y ordenados: \\n\")\n",
    "\n",
    "data = data.dropna()\n",
    "\n",
    "#print(data_filtered.isnull().sum())\n",
    "print(f\"La cantidad de datos repetidos son: {data.duplicated().sum()}\\n\")\n",
    "print(f\"Datos: {data.shape[0]} \\n\")\n",
    "data.to_csv('../data/API_data_Cleaned.csv', index=False, encoding='utf-8')\n",
    "print(\"Archivo limpiado correctamente\")"
   ]
  }
 ],
 "metadata": {
  "kernelspec": {
   "display_name": "Python 3",
   "language": "python",
   "name": "python3"
  },
  "language_info": {
   "codemirror_mode": {
    "name": "ipython",
    "version": 3
   },
   "file_extension": ".py",
   "mimetype": "text/x-python",
   "name": "python",
   "nbconvert_exporter": "python",
   "pygments_lexer": "ipython3",
   "version": "3.11.5"
  }
 },
 "nbformat": 4,
 "nbformat_minor": 2
}
